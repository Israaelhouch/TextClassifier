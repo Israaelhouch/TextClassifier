{
 "cells": [
  {
   "cell_type": "code",
   "execution_count": null,
   "id": "a169fb62",
   "metadata": {},
   "outputs": [],
   "source": [
    "import pandas as pd\n",
    "\n",
    "df = pd.read_csv(\"/Users/macmini/Desktop/untitled folder/TextClassifier/data/processed/processed_data\")"
   ]
  },
  {
   "cell_type": "markdown",
   "id": "ce8e47e8",
   "metadata": {},
   "source": [
    "### Feature Extraction with TF-IDF"
   ]
  },
  {
   "cell_type": "code",
   "execution_count": null,
   "id": "e4cde239",
   "metadata": {},
   "outputs": [],
   "source": [
    "from sklearn.feature_extraction.text import TfidfVectorizer\n",
    "\n",
    "# Initialize TF-IDF Vectorizer\n",
    "vectorizer = TfidfVectorizer(max_features=10000)  # You can tune max_features\n",
    "\n",
    "# Fit on cleaned text and transform\n",
    "X = vectorizer.fit_transform(df['clean_text'])\n",
    "\n",
    "print(f\"TF-IDF matrix shape: {X.shape}\")"
   ]
  },
  {
   "cell_type": "code",
   "execution_count": null,
   "id": "68838f71",
   "metadata": {},
   "outputs": [],
   "source": [
    "from sklearn.model_selection import train_test_split\n",
    "from sklearn.preprocessing import LabelEncoder\n",
    "\n",
    "# Encode labels if not done yet\n",
    "le = LabelEncoder()\n",
    "y = le.fit_transform(df['category'])\n",
    "\n",
    "# Split dataset into train and test sets (80% train, 20% test)\n",
    "X_train, X_test, y_train, y_test = train_test_split(X, y, test_size=0.2, random_state=42)\n",
    "\n",
    "print(f\"Train set size: {X_train.shape[0]} samples\")\n",
    "print(f\"Test set size: {X_test.shape[0]} samples\")\n"
   ]
  },
  {
   "cell_type": "code",
   "execution_count": null,
   "id": "c5296bbc",
   "metadata": {},
   "outputs": [],
   "source": [
    "# Mapping from integer label to category name\n",
    "label_map = dict(zip(le.transform(le.classes_), le.classes_))\n",
    "print(label_map)"
   ]
  },
  {
   "cell_type": "markdown",
   "id": "e32b9f94",
   "metadata": {},
   "source": [
    "### Train a Logistic Regression Classifier"
   ]
  },
  {
   "cell_type": "code",
   "execution_count": null,
   "id": "4127e948",
   "metadata": {},
   "outputs": [],
   "source": [
    "from sklearn.linear_model import LogisticRegression\n",
    "from sklearn.metrics import classification_report, accuracy_score\n",
    "\n",
    "# Initialize the model\n",
    "model = LogisticRegression(max_iter=200)\n"
   ]
  },
  {
   "cell_type": "code",
   "execution_count": null,
   "id": "9f5c0edb",
   "metadata": {},
   "outputs": [],
   "source": [
    "\n",
    "# Train on the training data\n",
    "model.fit(X_train, y_train)"
   ]
  },
  {
   "cell_type": "code",
   "execution_count": null,
   "id": "61affdf4",
   "metadata": {},
   "outputs": [],
   "source": [
    "# Predict on the test set\n",
    "y_pred = model.predict(X_test)"
   ]
  },
  {
   "cell_type": "code",
   "execution_count": null,
   "id": "9caa95a1",
   "metadata": {},
   "outputs": [],
   "source": [
    "# Evaluation\n",
    "print(\"Accuracy:\", accuracy_score(y_test, y_pred))\n",
    "print(\"\\nClassification Report:\\n\", classification_report(y_test, y_pred, target_names=le.classes_))"
   ]
  },
  {
   "cell_type": "markdown",
   "id": "92236752",
   "metadata": {},
   "source": [
    "### save the model"
   ]
  },
  {
   "cell_type": "code",
   "execution_count": null,
   "id": "869249c3",
   "metadata": {},
   "outputs": [],
   "source": [
    "import pickle\n",
    "\n",
    "# Save the trained model\n",
    "with open(\"model/news_classifier.pkl\", \"wb\") as model_file:\n",
    "    pickle.dump(model, model_file)\n",
    "\n",
    "# Save the LabelEncoder\n",
    "with open(\"model/label_encoder.pkl\", \"wb\") as le_file:\n",
    "    pickle.dump(le, le_file)\n",
    "    \n",
    "with open(\"model/tfidf_vectorizer.pkl\", \"wb\") as f:\n",
    "    pickle.dump(vectorizer, f)\n"
   ]
  }
 ],
 "metadata": {
  "language_info": {
   "name": "python"
  }
 },
 "nbformat": 4,
 "nbformat_minor": 5
}
